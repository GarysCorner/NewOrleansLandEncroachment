{
 "cells": [
  {
   "cell_type": "markdown",
   "id": "5083e556-387c-487d-a25a-73de7236a823",
   "metadata": {},
   "source": [
    "# Audubon Park Land Encroachment\n",
    "\n",
    "During my walks in audubon park I have noticed a concerning trend.  It appears at least to me that homeowners are appropriating the public parks intended for all of us to use for the own benefit.  The main vehicle for this appropriation seems to be adding in landscaping which acts as a barrier.  Typically cast-iron or bambo.  This is my attempt to figure whats going on\n",
    "\n",
    "#### Datasets\n",
    "* Parcel Map:  https://data.nola.gov/dataset/Parcels/v9q5-fz7t\n",
    "\n"
   ]
  },
  {
   "cell_type": "code",
   "execution_count": 1,
   "id": "97eef6d2-8f24-4504-8ea6-9ca094b129f4",
   "metadata": {},
   "outputs": [],
   "source": [
    "import geopandas as gpd\n",
    "#import contextily as cx\n",
    "\n",
    "import pandas as pd\n",
    "import numpy as np\n",
    "\n",
    "import shapely\n",
    "import shapely.geometry\n",
    "\n",
    "import geoplot.crs as gcrs\n",
    "import geoplot as gplt\n",
    "#import plotly\n",
    "\n",
    "import folium\n",
    "#import fiona\n",
    "import matplotlib.pyplot as plt\n",
    "\n"
   ]
  },
  {
   "cell_type": "code",
   "execution_count": 2,
   "id": "090749f5-553c-4fe2-be3a-8a85ad4c78a0",
   "metadata": {},
   "outputs": [],
   "source": [
    "useCRS = 3857"
   ]
  },
  {
   "cell_type": "code",
   "execution_count": null,
   "id": "99b2716b-76ad-4317-92b2-8d3f2a63781d",
   "metadata": {},
   "outputs": [],
   "source": [
    "parcelsGpd = gpd.read_file('./datasets/Parcels.geojson', crs='WGS84')"
   ]
  },
  {
   "cell_type": "code",
   "execution_count": null,
   "id": "5fca4e68-3400-4d44-be41-40a2946891a3",
   "metadata": {},
   "outputs": [],
   "source": [
    "parcelsGpd = parcelsGpd.to_crs(useCRS)"
   ]
  },
  {
   "cell_type": "code",
   "execution_count": null,
   "id": "318e8a72-ae04-4ceb-9f2d-9980f539302b",
   "metadata": {},
   "outputs": [],
   "source": [
    "parcelsGpd.crs"
   ]
  },
  {
   "cell_type": "code",
   "execution_count": null,
   "id": "a50d1777-9639-4ebd-b4b3-3245ebbc8aa6",
   "metadata": {},
   "outputs": [],
   "source": [
    "#drop public property\n",
    "parcelsGpd = parcelsGpd[ parcelsGpd['situs_street'] != 'Calhoun' ].copy()  #some kind of public property idk"
   ]
  },
  {
   "cell_type": "code",
   "execution_count": null,
   "id": "ccba19bd-1040-4ac4-bdfc-6b56a8c9b83c",
   "metadata": {},
   "outputs": [],
   "source": [
    "parcelsGpd.head(3)"
   ]
  },
  {
   "cell_type": "code",
   "execution_count": null,
   "id": "84a9cd08-d8a3-4b64-b19e-a9b3eaaa5fba",
   "metadata": {},
   "outputs": [],
   "source": [
    "#hehe get it\n",
    "audoBounds = [\n",
    "    (-90.12709, 29.93416),\n",
    "    (-90.12624, 29.93376),\n",
    "    (-90.13127, 29.92649),\n",
    "    (-90.13223, 29.92693),\n",
    "    \n",
    "    \n",
    "]\n",
    "\n",
    "audoBounds.append(audoBounds[0])"
   ]
  },
  {
   "cell_type": "code",
   "execution_count": null,
   "id": "4593f434-0193-4273-8be5-4b3ec6c406ed",
   "metadata": {},
   "outputs": [],
   "source": [
    "audoBoundsShape = shapely.geometry.Polygon([shapely.geometry.Point(*pt) for pt in audoBounds])\n",
    "print(audoBoundsShape)\n",
    "\n",
    "audoBoundsShape"
   ]
  },
  {
   "cell_type": "code",
   "execution_count": null,
   "id": "03c4b410-6f5d-496d-96c3-fa00c710cbb7",
   "metadata": {},
   "outputs": [],
   "source": [
    "audoBoundsShapeGS_wgs84 = gpd.GeoSeries(audoBoundsShape, crs='WGS84')\n",
    "audoBoundsShapeGS = audoBoundsShapeGS_wgs84.to_crs(useCRS)"
   ]
  },
  {
   "cell_type": "code",
   "execution_count": null,
   "id": "7f815ab9-e1d9-4500-b59d-26bf3d14294c",
   "metadata": {},
   "outputs": [],
   "source": []
  },
  {
   "cell_type": "code",
   "execution_count": null,
   "id": "cf274a59-6dec-4516-8df6-0c3baccaab21",
   "metadata": {},
   "outputs": [],
   "source": [
    "audoHousesMask = parcelsGpd['geometry'].intersects(audoBoundsShapeGS.iloc[0])\n",
    "\n",
    "(np.count_nonzero(audoHousesMask), parcelsGpd.shape[0])\n"
   ]
  },
  {
   "cell_type": "code",
   "execution_count": null,
   "id": "665acfa1-910d-43fa-80fe-9d0bb15dfc8d",
   "metadata": {},
   "outputs": [],
   "source": [
    "audubonCenter = shapely.geometry.box( *parcelsGpd[audoHousesMask].total_bounds ).centroid\n",
    "list(audubonCenter.coords)[0]"
   ]
  },
  {
   "cell_type": "code",
   "execution_count": null,
   "id": "84e09d5c-42b0-4ee8-b9f8-f7c3c8c3fa8f",
   "metadata": {},
   "outputs": [],
   "source": [
    "proj = gcrs.WebMercator()\n",
    "\n",
    "ax = gplt.webmap(audoBoundsShapeGS.to_crs('WGS84'), projection=proj, zoom=14)\n",
    "gplt.polyplot(audoBoundsShapeGS.to_crs('WGS84'), ax=ax, color='r', alpha=0.4 )\n",
    "\n"
   ]
  },
  {
   "cell_type": "code",
   "execution_count": null,
   "id": "4af39a14-07c8-4232-8a02-4c6a97cc6d07",
   "metadata": {},
   "outputs": [],
   "source": [
    "m = folium.Map(location=(audubonCenter.y,audubonCenter.x), zoom_start=16)\n",
    "\n",
    "folium.Choropleth(geo_data=audoBoundsShapeGS, fill_color='red').add_to(m)\n",
    "\n",
    "print(\"Target bounds (The area of investigation)\")\n",
    "\n",
    "m"
   ]
  },
  {
   "cell_type": "code",
   "execution_count": null,
   "id": "006cf82d-d836-4b25-a3f3-d194f877a8aa",
   "metadata": {},
   "outputs": [],
   "source": [
    "audubonPark = parcelsGpd[audoHousesMask].loc[parcelsGpd[audoHousesMask]['situs_number'] == '501']\n",
    "privateProperties = parcelsGpd[audoHousesMask][parcelsGpd[audoHousesMask]['situs_number'] != '501']"
   ]
  },
  {
   "cell_type": "code",
   "execution_count": null,
   "id": "dc31bacf-c050-4e40-8e2b-d48ace20a197",
   "metadata": {},
   "outputs": [],
   "source": [
    "privateProperties['geometry'] = privateProperties['geometry'].map(lambda g:  shapely.ops.unary_union( g.geoms ) )"
   ]
  },
  {
   "cell_type": "code",
   "execution_count": null,
   "id": "cd6aa577-9dbf-4aab-bcd7-7a4d387afabc",
   "metadata": {},
   "outputs": [],
   "source": [
    "proj = gcrs.WebMercator()\n",
    "\n",
    "fig, ax = plt.subplots(1, figsize=(10,20), subplot_kw={'projection':proj})\n",
    "                       \n",
    "                       \n",
    "\n",
    "gplt.webmap(privateProperties,ax=ax)\n",
    "gplt.polyplot(audubonPark, ax=ax, color='g', alpha=0.5 )\n",
    "gplt.polyplot(privateProperties, ax=ax, color='b', alpha=0.4 )\n"
   ]
  },
  {
   "cell_type": "code",
   "execution_count": null,
   "id": "56a5f08d-e47d-4850-bf8a-e0618c2c7087",
   "metadata": {},
   "outputs": [],
   "source": [
    "def getEast(shape):\n",
    "    coords = list(shape.exterior.coords)\n",
    "    \n",
    "    output = (-500,-500)\n",
    "    \n",
    "    for coord in coords:\n",
    "        if coord[0] > output[0]:\n",
    "            output = coord\n",
    "            \n",
    "    return shapely.geometry.Point( output )\n",
    "    \n",
    "privateProperties['EastCorner'] = gpd.GeoSeries( privateProperties['geometry'].map(getEast), crs='WGS84' )"
   ]
  },
  {
   "cell_type": "code",
   "execution_count": null,
   "id": "09a05de2-9f80-487b-aeba-aad39dfb6f13",
   "metadata": {},
   "outputs": [],
   "source": [
    "def getSouth(shape):\n",
    "    coords = list(shape.exterior.coords)\n",
    "    \n",
    "    output = (500,500)\n",
    "    \n",
    "    for coord in coords:\n",
    "        if coord[1] < output[1]:\n",
    "            output = coord\n",
    "            \n",
    "    return shapely.geometry.Point( output )\n",
    "    \n",
    "privateProperties['SouthCorner'] = gpd.GeoSeries( privateProperties['geometry'].map(getSouth), crs='WGS84' )"
   ]
  },
  {
   "cell_type": "code",
   "execution_count": null,
   "id": "4eeaa997-c775-4a1a-83bc-70b1aa6f5271",
   "metadata": {},
   "outputs": [],
   "source": [
    "def getPropLine(row):\n",
    "    return shapely.geometry.LineString([row['SouthCorner'], row['EastCorner']])\n",
    "\n",
    "privateProperties['PropLine'] = gpd.GeoSeries( privateProperties.apply(getPropLine, axis=1), crs='WGS84')"
   ]
  },
  {
   "cell_type": "code",
   "execution_count": null,
   "id": "bf6b51c8-d50f-4b55-bb32-8f2d47ec4144",
   "metadata": {},
   "outputs": [],
   "source": [
    "print(\"SouthWestCorners\")\n",
    "\n",
    "def checkCorners(col='EastCorner'):\n",
    "    m = folium.Map(location=(audubonCenter.y,audubonCenter.x), zoom_start=16)\n",
    "\n",
    "    folium.Choropleth(geo_data=audubonPark, fill_color='green').add_to(m)\n",
    "    folium.Choropleth(geo_data=privateProperties['geometry'], fill_color='blue').add_to(m)\n",
    "\n",
    "\n",
    "\n",
    "    for idx, row in privateProperties.iterrows():\n",
    "        popup = f\"South West Corner of {row['situs_number']} {row['situs_street']} {row['situs_type']}\"\n",
    "        folium.Marker(location=[row[col].y,row[col].x], popup=popup, \\\n",
    "                      icon=folium.Icon(color=\"red\"), \\\n",
    "                      ).add_to(m)\n",
    "\n",
    "\n",
    "    return m\n",
    "\n",
    "checkCorners('SouthCorner')"
   ]
  },
  {
   "cell_type": "code",
   "execution_count": null,
   "id": "8f621ce7-a2ed-498e-ae41-af2c361a5a71",
   "metadata": {},
   "outputs": [],
   "source": [
    "def getPenaltyBox(row):\n",
    "\n",
    "    offset = row['PropLine'].parallel_offset( 0.0005)\n",
    "    \n",
    "    return shapely.geometry.Polygon( list(row['PropLine'].coords) + list(offset.coords) )\n",
    "\n",
    "\n",
    "privateProperties['PenalityBox'] = privateProperties.apply(getPenaltyBox, axis=1)"
   ]
  },
  {
   "cell_type": "code",
   "execution_count": null,
   "id": "564ed69b-34a2-43ab-b8f9-e8a0f81cf638",
   "metadata": {},
   "outputs": [],
   "source": [
    "fig,ax=plt.subplots(figsize=(20,30),subplot_kw={'projection': gplt.WebMercator()})\n",
    "\n",
    "#ax.set(projection=gplt.WebMercator())\n",
    "\n",
    "gplt.webmap(privateProperties, ax=ax)\n",
    "\n",
    "gplt.polyplot(privateProperties, color='blue', edgecolor='blue', ax=ax, alpha=0.3)\n",
    "\n",
    "np.random.seed(10)\n",
    "\n",
    "gplt.sankey(privateProperties['PropLine'], ax=ax, linewidth=5,hue=np.random.choice(['r','g', 'b', 'm','o'],privateProperties.shape[0]))\n",
    "\n",
    "gplt.polyplot(privateProperties['PenalityBox'], ax=ax, edgecolor='r')\n",
    "\n"
   ]
  },
  {
   "cell_type": "code",
   "execution_count": null,
   "id": "449ad957-1ea7-4213-b914-10497019def2",
   "metadata": {},
   "outputs": [],
   "source": []
  }
 ],
 "metadata": {
  "kernelspec": {
   "display_name": "Python 3 (ipykernel)",
   "language": "python",
   "name": "python3"
  },
  "language_info": {
   "codemirror_mode": {
    "name": "ipython",
    "version": 3
   },
   "file_extension": ".py",
   "mimetype": "text/x-python",
   "name": "python",
   "nbconvert_exporter": "python",
   "pygments_lexer": "ipython3",
   "version": "3.10.1"
  }
 },
 "nbformat": 4,
 "nbformat_minor": 5
}
