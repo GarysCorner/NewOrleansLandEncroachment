{
 "cells": [
  {
   "cell_type": "markdown",
   "id": "948344ef-1654-4cd5-aa5c-7f6fecd39bdf",
   "metadata": {},
   "source": [
    "# ImgProcess\n",
    "\n",
    "Get the GPS coordinates and sync the images"
   ]
  },
  {
   "cell_type": "code",
   "execution_count": 1,
   "id": "1b03da1b-8fa7-4a70-b8e1-42ed9dcf28cb",
   "metadata": {},
   "outputs": [],
   "source": [
    "from exif import Image\n",
    "from datetime import datetime\n",
    "import re\n",
    "import pickle"
   ]
  },
  {
   "cell_type": "code",
   "execution_count": 2,
   "id": "cdc319c1-f179-4100-a726-7328dfd1d21f",
   "metadata": {},
   "outputs": [
    {
     "data": {
      "text/plain": [
       "['IMG_20230914_115708259_HDR.jpg',\n",
       " 'IMG_20230914_115813496_HDR.jpg',\n",
       " 'IMG_20230914_115829542_HDR.jpg']"
      ]
     },
     "execution_count": 2,
     "metadata": {},
     "output_type": "execute_result"
    }
   ],
   "source": [
    "files = !ls img_walnutst/\n",
    "files"
   ]
  },
  {
   "cell_type": "code",
   "execution_count": 9,
   "id": "c31df719-fd4f-41bc-87f3-c92f88f8d8e8",
   "metadata": {},
   "outputs": [],
   "source": [
    "s3Loc = \"https://s3.amazonaws.com/filestogeaux.garyscorner.net/pub/img_walnutst/\""
   ]
  },
  {
   "cell_type": "code",
   "execution_count": 3,
   "id": "3cc364ae-5212-45c0-8549-3cf70e4f82ab",
   "metadata": {},
   "outputs": [],
   "source": [
    "def convertGPS(cord):\n",
    "    outCord = cord[0]\n",
    "    \n",
    "    outCord += cord[1] / 60.0\n",
    "    \n",
    "    outCord += cord[2] / 3600.0\n",
    "    \n",
    "    return outCord"
   ]
  },
  {
   "cell_type": "code",
   "execution_count": 13,
   "id": "3ead7abb-e82d-4afe-9d51-b8bd7cd6a0be",
   "metadata": {},
   "outputs": [],
   "source": [
    "def getMetaData(files, reg = re.compile('^IMG_([^_]+)'), s3Loc = s3Loc):\n",
    "\n",
    "    outDict = {}\n",
    "    for file in files:\n",
    "        with open(f\"./img_walnutst/{file}\", 'rb') as fileObj:\n",
    "            img = Image(fileObj)\n",
    "\n",
    "            lat = convertGPS( img.gps_latitude )\n",
    "            lon = convertGPS( img.gps_longitude ) * -1.0\n",
    "\n",
    "\n",
    "            timeStr = reg.match(files[1]).groups()[0]\n",
    "\n",
    "            date = datetime.strptime(timeStr, '%Y%m%d')\n",
    "\n",
    "            outDict[s3Loc + file] = (date, (lat,lon))\n",
    "\n",
    "    return outDict\n",
    "              \n",
    "        \n",
    "        \n"
   ]
  },
  {
   "cell_type": "code",
   "execution_count": 14,
   "id": "aa167525-b2a1-46a9-beae-9a6dd96dbbe9",
   "metadata": {},
   "outputs": [],
   "source": [
    "!aws s3 sync --delete ./img_walnutst s3://filestogeaux.garyscorner.net/pub/img_walnutst/ --acl public-read"
   ]
  },
  {
   "cell_type": "code",
   "execution_count": 15,
   "id": "c77919d4-8fee-435c-a692-22175b38bde5",
   "metadata": {},
   "outputs": [
    {
     "data": {
      "text/plain": [
       "{'https://s3.amazonaws.com/filestogeaux.garyscorner.net/pub/img_walnutst/IMG_20230914_115708259_HDR.jpg': (datetime.datetime(2023, 9, 14, 0, 0),\n",
       "  (29.931499472222225, -90.12840269444443)),\n",
       " 'https://s3.amazonaws.com/filestogeaux.garyscorner.net/pub/img_walnutst/IMG_20230914_115813496_HDR.jpg': (datetime.datetime(2023, 9, 14, 0, 0),\n",
       "  (29.93270491666667, -90.12771605555555)),\n",
       " 'https://s3.amazonaws.com/filestogeaux.garyscorner.net/pub/img_walnutst/IMG_20230914_115829542_HDR.jpg': (datetime.datetime(2023, 9, 14, 0, 0),\n",
       "  (29.93270491666667, -90.12771605555555))}"
      ]
     },
     "execution_count": 15,
     "metadata": {},
     "output_type": "execute_result"
    }
   ],
   "source": [
    "metaData = getMetaData(files) \n",
    "metaData"
   ]
  },
  {
   "cell_type": "code",
   "execution_count": 16,
   "id": "99a0d50a-e0b5-4530-944f-8114c1cabe1c",
   "metadata": {},
   "outputs": [],
   "source": [
    "with open('img_walnutstMetaData.pickle', 'wb') as f:\n",
    "    pickle.dump(metaData,f)"
   ]
  },
  {
   "cell_type": "code",
   "execution_count": 17,
   "id": "8df5168f-54ba-49ec-a506-8a35da031b94",
   "metadata": {},
   "outputs": [
    {
     "data": {
      "text/plain": [
       "'2023-09-14 22:23:55.411819'"
      ]
     },
     "execution_count": 17,
     "metadata": {},
     "output_type": "execute_result"
    }
   ],
   "source": [
    "str(datetime.now())"
   ]
  },
  {
   "cell_type": "code",
   "execution_count": null,
   "id": "96ef9062-8682-4e10-9afe-91c06120bd55",
   "metadata": {},
   "outputs": [],
   "source": []
  }
 ],
 "metadata": {
  "kernelspec": {
   "display_name": "Python 3 (ipykernel)",
   "language": "python",
   "name": "python3"
  },
  "language_info": {
   "codemirror_mode": {
    "name": "ipython",
    "version": 3
   },
   "file_extension": ".py",
   "mimetype": "text/x-python",
   "name": "python",
   "nbconvert_exporter": "python",
   "pygments_lexer": "ipython3",
   "version": "3.10.1"
  }
 },
 "nbformat": 4,
 "nbformat_minor": 5
}
