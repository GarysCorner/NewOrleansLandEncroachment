{
 "cells": [
  {
   "cell_type": "markdown",
   "id": "948344ef-1654-4cd5-aa5c-7f6fecd39bdf",
   "metadata": {},
   "source": [
    "# ImgProcess\n",
    "\n",
    "Get the GPS coordinates and sync the images"
   ]
  },
  {
   "cell_type": "code",
   "execution_count": 1,
   "id": "1b03da1b-8fa7-4a70-b8e1-42ed9dcf28cb",
   "metadata": {},
   "outputs": [],
   "source": [
    "from exif import Image\n",
    "from datetime import datetime\n",
    "import re\n",
    "import pickle"
   ]
  },
  {
   "cell_type": "code",
   "execution_count": 2,
   "id": "cdc319c1-f179-4100-a726-7328dfd1d21f",
   "metadata": {},
   "outputs": [
    {
     "data": {
      "text/plain": [
       "['img_walnutst/IMG_20230914_114712382_HDR.jpg',\n",
       " 'img_walnutst/IMG_20230914_114815069_HDR.jpg',\n",
       " 'img_walnutst/IMG_20230914_114839959_HDR.jpg',\n",
       " 'img_walnutst/IMG_20230914_114854052_HDR.jpg',\n",
       " 'img_walnutst/IMG_20230914_114916496.jpg',\n",
       " 'img_walnutst/IMG_20230914_115003807_HDR.jpg',\n",
       " 'img_walnutst/IMG_20230914_115054516_HDR.jpg',\n",
       " 'img_walnutst/IMG_20230914_115314080.jpg',\n",
       " 'img_walnutst/IMG_20230914_115323231_HDR.jpg',\n",
       " 'img_walnutst/IMG_20230914_115336872_HDR.jpg',\n",
       " 'img_walnutst/IMG_20230914_115418289_HDR.jpg',\n",
       " 'img_walnutst/IMG_20230914_115531381.jpg',\n",
       " 'img_walnutst/IMG_20230914_115708259_HDR.jpg',\n",
       " 'img_walnutst/IMG_20230914_115813496_HDR.jpg',\n",
       " 'img_walnutst/IMG_20230914_115829542_HDR.jpg',\n",
       " 'img_walnutst/IMG_20230914_121932518.jpg']"
      ]
     },
     "execution_count": 2,
     "metadata": {},
     "output_type": "execute_result"
    }
   ],
   "source": [
    "files = !ls img_walnutst/*.jpg\n",
    "files"
   ]
  },
  {
   "cell_type": "code",
   "execution_count": 3,
   "id": "c31df719-fd4f-41bc-87f3-c92f88f8d8e8",
   "metadata": {},
   "outputs": [],
   "source": [
    "s3Loc = \"https://s3.amazonaws.com/filestogeaux.garyscorner.net/pub/\""
   ]
  },
  {
   "cell_type": "code",
   "execution_count": 4,
   "id": "3cc364ae-5212-45c0-8549-3cf70e4f82ab",
   "metadata": {},
   "outputs": [],
   "source": [
    "def convertGPS(cord):\n",
    "    outCord = cord[0]\n",
    "    \n",
    "    outCord += cord[1] / 60.0\n",
    "    \n",
    "    outCord += cord[2] / 3600.0\n",
    "    \n",
    "    return outCord"
   ]
  },
  {
   "cell_type": "code",
   "execution_count": 11,
   "id": "3ead7abb-e82d-4afe-9d51-b8bd7cd6a0be",
   "metadata": {},
   "outputs": [],
   "source": [
    "def getMetaData(files, reg = re.compile('^img_walnutst/IMG_([^_]+)'), s3Loc = s3Loc):\n",
    "\n",
    "    outList = []\n",
    "    for file in files:\n",
    "        with open(file, 'rb') as fileObj:\n",
    "            img = Image(fileObj)\n",
    "\n",
    "            lat = convertGPS( img.gps_latitude )\n",
    "            lon = convertGPS( img.gps_longitude ) * -1.0\n",
    "\n",
    "            try:\n",
    "                timeStr = reg.match(file).groups()[0]\n",
    "            except Exception as e:\n",
    "                print(file)\n",
    "                raise(e)\n",
    "\n",
    "            date = datetime.strptime(timeStr, '%Y%m%d')\n",
    "            \n",
    "            outList.append({\n",
    "                        'url':s3Loc+file,\n",
    "                      'file':file,\n",
    "                      'coords':(lon,lat),\n",
    "                      'date':date,\n",
    "                      'originalLat':img.gps_latitude,\n",
    "                      'originalLon': img.gps_longitude\n",
    "                     })\n",
    "            \n",
    "            \n",
    "            \n",
    "\n",
    "    return outList\n",
    "              \n",
    "        \n",
    "        \n"
   ]
  },
  {
   "cell_type": "code",
   "execution_count": 12,
   "id": "c77919d4-8fee-435c-a692-22175b38bde5",
   "metadata": {},
   "outputs": [
    {
     "data": {
      "text/plain": [
       "[{'url': 'https://s3.amazonaws.com/filestogeaux.garyscorner.net/pub/img_walnutst/IMG_20230914_114712382_HDR.jpg',\n",
       "  'file': 'img_walnutst/IMG_20230914_114712382_HDR.jpg',\n",
       "  'coords': (-90.13142394444444, 29.927722916666667),\n",
       "  'date': datetime.datetime(2023, 9, 14, 0, 0),\n",
       "  'originalLat': (29.0, 55.0, 39.8025),\n",
       "  'originalLon': (90.0, 7.0, 53.1262)},\n",
       " {'url': 'https://s3.amazonaws.com/filestogeaux.garyscorner.net/pub/img_walnutst/IMG_20230914_114815069_HDR.jpg',\n",
       "  'file': 'img_walnutst/IMG_20230914_114815069_HDR.jpg',\n",
       "  'coords': (-90.13134, 29.92795180555556),\n",
       "  'date': datetime.datetime(2023, 9, 14, 0, 0),\n",
       "  'originalLat': (29.0, 55.0, 40.6265),\n",
       "  'originalLon': (90.0, 7.0, 52.824)},\n",
       " {'url': 'https://s3.amazonaws.com/filestogeaux.garyscorner.net/pub/img_walnutst/IMG_20230914_114839959_HDR.jpg',\n",
       "  'file': 'img_walnutst/IMG_20230914_114839959_HDR.jpg',\n",
       "  'coords': (-90.13101194444444, 29.92823788888889),\n",
       "  'date': datetime.datetime(2023, 9, 14, 0, 0),\n",
       "  'originalLat': (29.0, 55.0, 41.6564),\n",
       "  'originalLon': (90.0, 7.0, 51.643)},\n",
       " {'url': 'https://s3.amazonaws.com/filestogeaux.garyscorner.net/pub/img_walnutst/IMG_20230914_114854052_HDR.jpg',\n",
       "  'file': 'img_walnutst/IMG_20230914_114854052_HDR.jpg',\n",
       "  'coords': (-90.13101194444444, 29.92823788888889),\n",
       "  'date': datetime.datetime(2023, 9, 14, 0, 0),\n",
       "  'originalLat': (29.0, 55.0, 41.6564),\n",
       "  'originalLon': (90.0, 7.0, 51.643)},\n",
       " {'url': 'https://s3.amazonaws.com/filestogeaux.garyscorner.net/pub/img_walnutst/IMG_20230914_114916496.jpg',\n",
       "  'file': 'img_walnutst/IMG_20230914_114916496.jpg',\n",
       "  'coords': (-90.13094327777777, 29.928478222222225),\n",
       "  'date': datetime.datetime(2023, 9, 14, 0, 0),\n",
       "  'originalLat': (29.0, 55.0, 42.5216),\n",
       "  'originalLon': (90.0, 7.0, 51.3958)},\n",
       " {'url': 'https://s3.amazonaws.com/filestogeaux.garyscorner.net/pub/img_walnutst/IMG_20230914_115003807_HDR.jpg',\n",
       "  'file': 'img_walnutst/IMG_20230914_115003807_HDR.jpg',\n",
       "  'coords': (-90.13092038888888, 29.92855261111111),\n",
       "  'date': datetime.datetime(2023, 9, 14, 0, 0),\n",
       "  'originalLat': (29.0, 55.0, 42.7894),\n",
       "  'originalLon': (90.0, 7.0, 51.3134)},\n",
       " {'url': 'https://s3.amazonaws.com/filestogeaux.garyscorner.net/pub/img_walnutst/IMG_20230914_115054516_HDR.jpg',\n",
       "  'file': 'img_walnutst/IMG_20230914_115054516_HDR.jpg',\n",
       "  'coords': (-90.13053891666667, 29.92921063888889),\n",
       "  'date': datetime.datetime(2023, 9, 14, 0, 0),\n",
       "  'originalLat': (29.0, 55.0, 45.1583),\n",
       "  'originalLon': (90.0, 7.0, 49.9401)},\n",
       " {'url': 'https://s3.amazonaws.com/filestogeaux.garyscorner.net/pub/img_walnutst/IMG_20230914_115314080.jpg',\n",
       "  'file': 'img_walnutst/IMG_20230914_115314080.jpg',\n",
       "  'coords': (-90.12947844444444, 29.930452333333335),\n",
       "  'date': datetime.datetime(2023, 9, 14, 0, 0),\n",
       "  'originalLat': (29.0, 55.0, 49.6284),\n",
       "  'originalLon': (90.0, 7.0, 46.1224)},\n",
       " {'url': 'https://s3.amazonaws.com/filestogeaux.garyscorner.net/pub/img_walnutst/IMG_20230914_115323231_HDR.jpg',\n",
       "  'file': 'img_walnutst/IMG_20230914_115323231_HDR.jpg',\n",
       "  'coords': (-90.12961577777777, 29.93056677777778),\n",
       "  'date': datetime.datetime(2023, 9, 14, 0, 0),\n",
       "  'originalLat': (29.0, 55.0, 50.0404),\n",
       "  'originalLon': (90.0, 7.0, 46.6168)},\n",
       " {'url': 'https://s3.amazonaws.com/filestogeaux.garyscorner.net/pub/img_walnutst/IMG_20230914_115336872_HDR.jpg',\n",
       "  'file': 'img_walnutst/IMG_20230914_115336872_HDR.jpg',\n",
       "  'coords': (-90.12961577777777, 29.93056677777778),\n",
       "  'date': datetime.datetime(2023, 9, 14, 0, 0),\n",
       "  'originalLat': (29.0, 55.0, 50.0404),\n",
       "  'originalLon': (90.0, 7.0, 46.6168)},\n",
       " {'url': 'https://s3.amazonaws.com/filestogeaux.garyscorner.net/pub/img_walnutst/IMG_20230914_115418289_HDR.jpg',\n",
       "  'file': 'img_walnutst/IMG_20230914_115418289_HDR.jpg',\n",
       "  'coords': (-90.12922666666665, 29.93079375),\n",
       "  'date': datetime.datetime(2023, 9, 14, 0, 0),\n",
       "  'originalLat': (29.0, 55.0, 50.8575),\n",
       "  'originalLon': (90.0, 7.0, 45.216)},\n",
       " {'url': 'https://s3.amazonaws.com/filestogeaux.garyscorner.net/pub/img_walnutst/IMG_20230914_115531381.jpg',\n",
       "  'file': 'img_walnutst/IMG_20230914_115531381.jpg',\n",
       "  'coords': (-90.12868497222222, 29.931276305555556),\n",
       "  'date': datetime.datetime(2023, 9, 14, 0, 0),\n",
       "  'originalLat': (29.0, 55.0, 52.5947),\n",
       "  'originalLon': (90.0, 7.0, 43.2659)},\n",
       " {'url': 'https://s3.amazonaws.com/filestogeaux.garyscorner.net/pub/img_walnutst/IMG_20230914_115708259_HDR.jpg',\n",
       "  'file': 'img_walnutst/IMG_20230914_115708259_HDR.jpg',\n",
       "  'coords': (-90.12840269444443, 29.931499472222225),\n",
       "  'date': datetime.datetime(2023, 9, 14, 0, 0),\n",
       "  'originalLat': (29.0, 55.0, 53.3981),\n",
       "  'originalLon': (90.0, 7.0, 42.2497)},\n",
       " {'url': 'https://s3.amazonaws.com/filestogeaux.garyscorner.net/pub/img_walnutst/IMG_20230914_115813496_HDR.jpg',\n",
       "  'file': 'img_walnutst/IMG_20230914_115813496_HDR.jpg',\n",
       "  'coords': (-90.12771605555555, 29.93270491666667),\n",
       "  'date': datetime.datetime(2023, 9, 14, 0, 0),\n",
       "  'originalLat': (29.0, 55.0, 57.7377),\n",
       "  'originalLon': (90.0, 7.0, 39.7778)},\n",
       " {'url': 'https://s3.amazonaws.com/filestogeaux.garyscorner.net/pub/img_walnutst/IMG_20230914_115829542_HDR.jpg',\n",
       "  'file': 'img_walnutst/IMG_20230914_115829542_HDR.jpg',\n",
       "  'coords': (-90.12771605555555, 29.93270491666667),\n",
       "  'date': datetime.datetime(2023, 9, 14, 0, 0),\n",
       "  'originalLat': (29.0, 55.0, 57.7377),\n",
       "  'originalLon': (90.0, 7.0, 39.7778)},\n",
       " {'url': 'https://s3.amazonaws.com/filestogeaux.garyscorner.net/pub/img_walnutst/IMG_20230914_121932518.jpg',\n",
       "  'file': 'img_walnutst/IMG_20230914_121932518.jpg',\n",
       "  'coords': (-90.12467955555555, 29.927940361111112),\n",
       "  'date': datetime.datetime(2023, 9, 14, 0, 0),\n",
       "  'originalLat': (29.0, 55.0, 40.5853),\n",
       "  'originalLon': (90.0, 7.0, 28.8464)}]"
      ]
     },
     "execution_count": 12,
     "metadata": {},
     "output_type": "execute_result"
    }
   ],
   "source": [
    "metaData = getMetaData(files) \n",
    "metaData"
   ]
  },
  {
   "cell_type": "code",
   "execution_count": 7,
   "id": "99a0d50a-e0b5-4530-944f-8114c1cabe1c",
   "metadata": {},
   "outputs": [],
   "source": [
    "with open('img_walnutstMetaData.pickle', 'wb') as f:\n",
    "    pickle.dump(metaData,f)"
   ]
  },
  {
   "cell_type": "code",
   "execution_count": 8,
   "id": "8df5168f-54ba-49ec-a506-8a35da031b94",
   "metadata": {},
   "outputs": [
    {
     "data": {
      "text/plain": [
       "'2023-09-15 09:38:01.867530'"
      ]
     },
     "execution_count": 8,
     "metadata": {},
     "output_type": "execute_result"
    }
   ],
   "source": [
    "str(datetime.now())"
   ]
  },
  {
   "cell_type": "markdown",
   "id": "536f93a7-f832-43f9-acb7-7b0f8a78ff14",
   "metadata": {},
   "source": [
    "!aws s3 sync --delete ./img_walnutst s3://filestogeaux.garyscorner.net/pub/img_walnutst/ --acl public-read"
   ]
  },
  {
   "cell_type": "code",
   "execution_count": 9,
   "id": "0aa469e9-6505-4509-9f6e-8ad49cc687c3",
   "metadata": {},
   "outputs": [
    {
     "data": {
      "text/plain": [
       "'2023-09-15 09:38:01.880025'"
      ]
     },
     "execution_count": 9,
     "metadata": {},
     "output_type": "execute_result"
    }
   ],
   "source": [
    "str(datetime.now())"
   ]
  },
  {
   "cell_type": "code",
   "execution_count": 10,
   "id": "96ef9062-8682-4e10-9afe-91c06120bd55",
   "metadata": {},
   "outputs": [
    {
     "data": {
      "text/plain": [
       "'done!'"
      ]
     },
     "execution_count": 10,
     "metadata": {},
     "output_type": "execute_result"
    }
   ],
   "source": [
    "'done!'"
   ]
  },
  {
   "cell_type": "code",
   "execution_count": null,
   "id": "07dbf0b5-b96a-422e-bafd-cc9b0ca3341e",
   "metadata": {},
   "outputs": [],
   "source": []
  }
 ],
 "metadata": {
  "kernelspec": {
   "display_name": "Python 3 (ipykernel)",
   "language": "python",
   "name": "python3"
  },
  "language_info": {
   "codemirror_mode": {
    "name": "ipython",
    "version": 3
   },
   "file_extension": ".py",
   "mimetype": "text/x-python",
   "name": "python",
   "nbconvert_exporter": "python",
   "pygments_lexer": "ipython3",
   "version": "3.10.1"
  }
 },
 "nbformat": 4,
 "nbformat_minor": 5
}
